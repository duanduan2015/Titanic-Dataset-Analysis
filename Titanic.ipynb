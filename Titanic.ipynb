{
 "cells": [
  {
   "cell_type": "markdown",
   "metadata": {},
   "source": [
    "#Loading and have a brief view of the Titanic Data File"
   ]
  },
  {
   "cell_type": "code",
   "execution_count": 4,
   "metadata": {
    "collapsed": true
   },
   "outputs": [],
   "source": [
    "import numpy as np\n",
    "import pandas as pd\n",
    "import matplotlib.pyplot as plot\n",
    "passengers_df = pd.read_csv('titanic-data.csv')"
   ]
  },
  {
   "cell_type": "code",
   "execution_count": 5,
   "metadata": {},
   "outputs": [
    {
     "data": {
      "text/html": [
       "<div>\n",
       "<style>\n",
       "    .dataframe thead tr:only-child th {\n",
       "        text-align: right;\n",
       "    }\n",
       "\n",
       "    .dataframe thead th {\n",
       "        text-align: left;\n",
       "    }\n",
       "\n",
       "    .dataframe tbody tr th {\n",
       "        vertical-align: top;\n",
       "    }\n",
       "</style>\n",
       "<table border=\"1\" class=\"dataframe\">\n",
       "  <thead>\n",
       "    <tr style=\"text-align: right;\">\n",
       "      <th></th>\n",
       "      <th>PassengerId</th>\n",
       "      <th>Survived</th>\n",
       "      <th>Pclass</th>\n",
       "      <th>Name</th>\n",
       "      <th>Sex</th>\n",
       "      <th>Age</th>\n",
       "      <th>SibSp</th>\n",
       "      <th>Parch</th>\n",
       "      <th>Ticket</th>\n",
       "      <th>Fare</th>\n",
       "      <th>Cabin</th>\n",
       "      <th>Embarked</th>\n",
       "    </tr>\n",
       "  </thead>\n",
       "  <tbody>\n",
       "    <tr>\n",
       "      <th>0</th>\n",
       "      <td>1</td>\n",
       "      <td>0</td>\n",
       "      <td>3</td>\n",
       "      <td>Braund, Mr. Owen Harris</td>\n",
       "      <td>male</td>\n",
       "      <td>22.0</td>\n",
       "      <td>1</td>\n",
       "      <td>0</td>\n",
       "      <td>A/5 21171</td>\n",
       "      <td>7.2500</td>\n",
       "      <td>NaN</td>\n",
       "      <td>S</td>\n",
       "    </tr>\n",
       "    <tr>\n",
       "      <th>1</th>\n",
       "      <td>2</td>\n",
       "      <td>1</td>\n",
       "      <td>1</td>\n",
       "      <td>Cumings, Mrs. John Bradley (Florence Briggs Th...</td>\n",
       "      <td>female</td>\n",
       "      <td>38.0</td>\n",
       "      <td>1</td>\n",
       "      <td>0</td>\n",
       "      <td>PC 17599</td>\n",
       "      <td>71.2833</td>\n",
       "      <td>C85</td>\n",
       "      <td>C</td>\n",
       "    </tr>\n",
       "    <tr>\n",
       "      <th>2</th>\n",
       "      <td>3</td>\n",
       "      <td>1</td>\n",
       "      <td>3</td>\n",
       "      <td>Heikkinen, Miss. Laina</td>\n",
       "      <td>female</td>\n",
       "      <td>26.0</td>\n",
       "      <td>0</td>\n",
       "      <td>0</td>\n",
       "      <td>STON/O2. 3101282</td>\n",
       "      <td>7.9250</td>\n",
       "      <td>NaN</td>\n",
       "      <td>S</td>\n",
       "    </tr>\n",
       "    <tr>\n",
       "      <th>3</th>\n",
       "      <td>4</td>\n",
       "      <td>1</td>\n",
       "      <td>1</td>\n",
       "      <td>Futrelle, Mrs. Jacques Heath (Lily May Peel)</td>\n",
       "      <td>female</td>\n",
       "      <td>35.0</td>\n",
       "      <td>1</td>\n",
       "      <td>0</td>\n",
       "      <td>113803</td>\n",
       "      <td>53.1000</td>\n",
       "      <td>C123</td>\n",
       "      <td>S</td>\n",
       "    </tr>\n",
       "    <tr>\n",
       "      <th>4</th>\n",
       "      <td>5</td>\n",
       "      <td>0</td>\n",
       "      <td>3</td>\n",
       "      <td>Allen, Mr. William Henry</td>\n",
       "      <td>male</td>\n",
       "      <td>35.0</td>\n",
       "      <td>0</td>\n",
       "      <td>0</td>\n",
       "      <td>373450</td>\n",
       "      <td>8.0500</td>\n",
       "      <td>NaN</td>\n",
       "      <td>S</td>\n",
       "    </tr>\n",
       "  </tbody>\n",
       "</table>\n",
       "</div>"
      ],
      "text/plain": [
       "   PassengerId  Survived  Pclass  \\\n",
       "0            1         0       3   \n",
       "1            2         1       1   \n",
       "2            3         1       3   \n",
       "3            4         1       1   \n",
       "4            5         0       3   \n",
       "\n",
       "                                                Name     Sex   Age  SibSp  \\\n",
       "0                            Braund, Mr. Owen Harris    male  22.0      1   \n",
       "1  Cumings, Mrs. John Bradley (Florence Briggs Th...  female  38.0      1   \n",
       "2                             Heikkinen, Miss. Laina  female  26.0      0   \n",
       "3       Futrelle, Mrs. Jacques Heath (Lily May Peel)  female  35.0      1   \n",
       "4                           Allen, Mr. William Henry    male  35.0      0   \n",
       "\n",
       "   Parch            Ticket     Fare Cabin Embarked  \n",
       "0      0         A/5 21171   7.2500   NaN        S  \n",
       "1      0          PC 17599  71.2833   C85        C  \n",
       "2      0  STON/O2. 3101282   7.9250   NaN        S  \n",
       "3      0            113803  53.1000  C123        S  \n",
       "4      0            373450   8.0500   NaN        S  "
      ]
     },
     "execution_count": 5,
     "metadata": {},
     "output_type": "execute_result"
    }
   ],
   "source": [
    "passengers_df.head()"
   ]
  },
  {
   "cell_type": "markdown",
   "metadata": {},
   "source": [
    "#Virtualizing and analyzing the data according to different key features"
   ]
  },
  {
   "cell_type": "markdown",
   "metadata": {},
   "source": [
    "##Virtualize the survived amount and died amount according to different sex"
   ]
  },
  {
   "cell_type": "code",
   "execution_count": 7,
   "metadata": {},
   "outputs": [
    {
     "data": {
      "image/png": "[encoded data removed]",
      "text/plain": [
       "<matplotlib.figure.Figure at 0x10ccd0f98>"
      ]
     },
     "metadata": {},
     "output_type": "display_data"
    },
    {
     "name": "stdout",
     "output_type": "stream",
     "text": [
      "The survival rate of women is: 0.7420382165605095\n",
      "The survival rate of men is: 0.18890814558058924\n"
     ]
    }
   ],
   "source": [
    "men_df = passengers_df.loc[passengers_df['Sex'] == 'male']\n",
    "women_df = passengers_df.loc[passengers_df['Sex'] == 'female']\n",
    "numOfMenSurvived = len(men_df[men_df['Survived'] == 1])\n",
    "numOfMenDead = len(men_df[men_df['Survived'] == 0])\n",
    "numOfWomenSurvived = len(women_df[women_df['Survived'] == 1])\n",
    "numOfWomenDead = len(women_df[women_df['Survived'] == 0])\n",
    "fig, ay = plot.subplots()\n",
    "fig.tight_layout()\n",
    "ind = np.arange(2)\n",
    "width = 0.35\n",
    "rects1 = ay.bar(ind, (numOfWomenSurvived, numOfMenSurvived), width, color='g')\n",
    "rects2 = ay.bar(ind + width, (numOfWomenDead, numOfMenDead), width, color='r')\n",
    "ay.legend((rects1[0], rects2[0]), (\"Survived\", \"Died\"))\n",
    "ay.set_xticks(ind + width / 2)\n",
    "ay.set_title('Figure 1')\n",
    "ay.set_xticklabels((\"Women\", \"Men\"))\n",
    "ay.set_ylabel('Number of Counts')\n",
    "plot.show()\n",
    "print(\"The survival rate of women is: \" + str(numOfWomenSurvived / (numOfWomenSurvived + numOfWomenDead)))\n",
    "print(\"The survival rate of men is: \" + str(numOfMenSurvived / (numOfMenSurvived + numOfMenDead)))"
   ]
  },
  {
   "cell_type": "markdown",
   "metadata": {},
   "source": [
    "###From Figure 1, we can see that for women, the survived amount is far more than the died amount, and for men the died amount is far more than the survived amount. And survival rate can clearly state this point of view."
   ]
  },
  {
   "cell_type": "markdown",
   "metadata": {},
   "source": [
    "##Virtualize the survival number and died number according to different socio-economic status(Pclass)"
   ]
  },
  {
   "cell_type": "code",
   "execution_count": 6,
   "metadata": {},
   "outputs": [
    {
     "data": {
      "image/png": "[encoded data removed]",
      "text/plain": [
       "<matplotlib.figure.Figure at 0x10cd94400>"
      ]
     },
     "metadata": {},
     "output_type": "display_data"
    },
    {
     "name": "stdout",
     "output_type": "stream",
     "text": [
      "Upper class survival rate: 0.6296296296296297\n",
      "Upper class women survival rate: 0.4212962962962963\n",
      "Upper class men survival rate: 0.20833333333333334\n",
      "Middle class survival rate: 0.47282608695652173\n",
      "Middle class women survival rate: 0.3804347826086957\n",
      "Middle class men survival rate: 0.09239130434782608\n",
      "Lower class survival rate: 0.24236252545824846\n",
      "Lower class women survival rate: 0.14663951120162932\n",
      "Lower class men survival rate: 0.09572301425661914\n"
     ]
    }
   ],
   "source": [
    "p1_class_df = passengers_df.loc[passengers_df['Pclass'] == 1]\n",
    "p2_class_df = passengers_df.loc[passengers_df['Pclass'] == 2]\n",
    "p3_class_df = passengers_df.loc[passengers_df['Pclass'] == 3]\n",
    "p1_survived_women = len(p1_class_df.loc[(p1_class_df['Survived'] == 1)&(p1_class_df['Sex'] == 'female')])\n",
    "p1_died_women = len(p1_class_df.loc[(p1_class_df['Survived'] == 0)&(p1_class_df['Sex'] == 'female')])\n",
    "p1_survived_men = len(p1_class_df.loc[(p1_class_df['Survived'] == 1)&(p1_class_df['Sex'] == 'male')])\n",
    "p1_died_men = len(p1_class_df.loc[(p1_class_df['Survived'] == 0)&(p1_class_df['Sex'] == 'male')])\n",
    "p2_survived_men = len(p2_class_df.loc[(p2_class_df['Survived'] == 1)&(p2_class_df['Sex'] == 'male')])\n",
    "p2_died_men = len(p2_class_df.loc[(p2_class_df['Survived'] == 0)&(p2_class_df['Sex'] == 'male')])\n",
    "p2_survived_women = len(p2_class_df.loc[(p2_class_df['Survived'] == 1)&(p2_class_df['Sex'] == 'female')])\n",
    "p2_died_women = len(p2_class_df.loc[(p2_class_df['Survived'] == 0)&(p2_class_df['Sex'] == 'female')])\n",
    "p3_survived_men = len(p3_class_df.loc[(p3_class_df['Survived'] == 1)&(p3_class_df['Sex'] == 'male')])\n",
    "p3_died_men = len(p3_class_df.loc[(p3_class_df['Survived'] == 0)&(p3_class_df['Sex'] == 'male')])\n",
    "p3_survived_women = len(p3_class_df.loc[(p3_class_df['Survived'] == 1)&(p3_class_df['Sex'] == 'female')])\n",
    "p3_died_women = len(p3_class_df.loc[(p3_class_df['Survived'] == 0)&(p3_class_df['Sex'] == 'female')])\n",
    "fig, ax = plot.subplots()\n",
    "ind = np.arange(2)\n",
    "width = 0.2\n",
    "rects1 = ax.bar(ind, (p1_survived_women, p1_died_women), width, color='r',hatch=\"*\")\n",
    "rects2 = ax.bar(ind, (p1_survived_men, p1_died_men), width, color='b', bottom=(p1_survived_women,p1_died_women),hatch=\"*\")\n",
    "rects3 = ax.bar(ind + width, (p2_survived_women, p2_died_women), width, color='r',hatch=\"//\") \n",
    "rects4 = ax.bar(ind + width, (p2_survived_men, p2_died_men), width, color='b', bottom=(p2_survived_women, p2_died_women),hatch=\"//\") \n",
    "rects5 = ax.bar(ind + 2 * width, (p3_survived_women, p3_died_women), width, color='r',hatch=\".\") \n",
    "rects6 = ax.bar(ind + 2 * width, (p3_survived_men, p3_died_men), width, color='b', bottom=(p3_survived_women, p3_died_women),hatch=\".\") \n",
    "ax.set_ylabel('Number of Counts')\n",
    "ax.set_title('Number of Survived and Died Counts by Passenger Class')\n",
    "ax.set_xticks(ind + width)\n",
    "ax.set_xticklabels((\"Survived\", \"Died\"))\n",
    "ax.legend((rects1[0], rects2[0], rects3[0], rects4[0], rects5[0], rects6[0]), (\"women in upper\", \"men in upper\", \"women in middle\", \"men in middle\", \"women in lower\", \"men in lower\"))\n",
    "plot.show()\n",
    "print(\"Upper class survival rate: \" + str((p1_survived_women + p1_survived_men) / len(p1_class_df)))\n",
    "print(\"Upper class women survival rate: \" + str((p1_survived_women) / len(p1_class_df)))\n",
    "print(\"Upper class men survival rate: \" + str((p1_survived_men) / len(p1_class_df)))\n",
    "print(\"Middle class survival rate: \" + str((p2_survived_women + p2_survived_men) / len(p2_class_df)))\n",
    "print(\"Middle class women survival rate: \" + str((p2_survived_women) / len(p2_class_df)))\n",
    "print(\"Middle class men survival rate: \" + str((p2_survived_men) / len(p2_class_df)))\n",
    "print(\"Lower class survival rate: \" + str((p3_survived_women + p3_survived_men) / len(p3_class_df)))\n",
    "print(\"Lower class women survival rate: \" + str((p3_survived_women) / len(p3_class_df)))\n",
    "print(\"Lower class men survival rate: \" + str((p3_survived_men) / len(p3_class_df)))"
   ]
  },
  {
   "cell_type": "markdown",
   "metadata": {},
   "source": [
    "###From the above figure and survival rates of different classes, we can see that upper class survivla rate is far more than other classes. Women and men's survivla rates in upper class are also higher than other classes seperately. Lower class has the lowest survival rate. Women's survivl rates are all higher than men's in all three classes."
   ]
  },
  {
   "cell_type": "markdown",
   "metadata": {},
   "source": [
    "##Virtulize the survival number according to different age range"
   ]
  },
  {
   "cell_type": "code",
   "execution_count": 201,
   "metadata": {},
   "outputs": [
    {
     "data": {
      "image/png": "[encoded data removed]",
      "text/plain": [
       "<matplotlib.figure.Figure at 0x1110400b8>"
      ]
     },
     "metadata": {},
     "output_type": "display_data"
    },
    {
     "name": "stdout",
     "output_type": "stream",
     "text": [
      "The survival rate between age[1~10] is: 0.59375\n",
      "The survival rate between age[11~20] is: 0.3826086956521739\n",
      "The survival rate between age[21~30] is: 0.3652173913043478\n",
      "The survival rate between age[31~40] is: 0.44516129032258067\n",
      "The survival rate between age[41~50] is: 0.38372093023255816\n",
      "The survival rate between age[51~60] is: 0.40476190476190477\n",
      "The survival rate between age[61~70] is: 0.23529411764705882\n",
      "The survival rate between age[71~80] is: 0.2\n"
     ]
    }
   ],
   "source": [
    "age_ranges = []\n",
    "age_range1 = passengers_df[(passengers_df['Age'] > 0) & (passengers_df['Age'] <= 10)]\n",
    "age_range2 = passengers_df[(passengers_df['Age'] > 10) & (passengers_df['Age'] <= 20)]\n",
    "age_range3 = passengers_df[(passengers_df['Age'] > 20) & (passengers_df['Age'] <= 30)]\n",
    "age_range4 = passengers_df[(passengers_df['Age'] > 30) & (passengers_df['Age'] <= 40)]\n",
    "age_range5 = passengers_df[(passengers_df['Age'] > 40) & (passengers_df['Age'] <= 50)]\n",
    "age_range6 = passengers_df[(passengers_df['Age'] > 50) & (passengers_df['Age'] <= 60)]\n",
    "age_range7 = passengers_df[(passengers_df['Age'] > 60) & (passengers_df['Age'] <= 70)]\n",
    "age_range8 = passengers_df[(passengers_df['Age'] > 70) & (passengers_df['Age'] <= 80)]\n",
    "age_ranges.append(age_range1)\n",
    "age_ranges.append(age_range2)\n",
    "age_ranges.append(age_range3)\n",
    "age_ranges.append(age_range4)\n",
    "age_ranges.append(age_range5)\n",
    "age_ranges.append(age_range6)\n",
    "age_ranges.append(age_range7)\n",
    "age_ranges.append(age_range8)\n",
    "fig, ax = plot.subplots()\n",
    "ind = np.arange(8)\n",
    "width = 0.3\n",
    "survived_num = []\n",
    "died_num = []\n",
    "survived_women = []\n",
    "survived_men = []\n",
    "died_men = []\n",
    "died_women = []\n",
    "for arange in age_ranges:\n",
    "    survived_num.append(len(arange.loc[arange['Survived'] == 1]))\n",
    "    died_num.append(len(arange.loc[arange['Survived'] == 0]))\n",
    "    survived_men.append(len(arange.loc[(arange['Survived'] == 1)&(arange['Sex'] == 'male')]))\n",
    "    survived_women.append(len(arange.loc[(arange['Survived'] == 1)&(arange['Sex'] == 'female')]))\n",
    "    died_men.append(len(arange.loc[(arange['Survived'] == 0)&(arange['Sex'] == 'male')]))\n",
    "    died_women.append(len(arange.loc[(arange['Survived'] == 0)&(arange['Sex'] == 'female')]))\n",
    "rect1 = ax.bar(ind, survived_men, width,color='g')\n",
    "rect2 = ax.bar(ind, survived_women, width, bottom=survived_men, color='y')\n",
    "rect3 = ax.bar(ind + width, died_men, width,color='g',hatch='//')\n",
    "rect4 = ax.bar(ind + width, died_women, width,bottom=died_men, color='y',hatch='//')\n",
    "ax.set_ylabel('Number of Counts')\n",
    "ax.set_title('Number of Survived and Died Counts grouped by Age Ranges')\n",
    "ax.set_xticks(ind + width / 2)\n",
    "ax.set_xticklabels((\"0-10\", \"11-20\",\"21-30\",\"31-40\",\"41-50\",\"51-60\",\"61-70\",\"71-80\"))\n",
    "ax.legend((rect1[0],rect2[0], rect3[0],rect4[0]), (\"Men Survived\", \"Women Survived\", \"Men Died\", \"Women Died\"))\n",
    "plot.show()\n",
    "for i in range(8):\n",
    "    print(\"The survival rate between age[\" + str(i * 10 + 1) + \"~\" + str(i*10 + 10) + \"] is: \" + str(survived_num[i] / len(age_ranges[i])))"
   ]
  },
  {
   "cell_type": "markdown",
   "metadata": {},
   "source": [
    "###From the above figure and survival rates, we know that the highest survival rate is between age 0~10 and the lowest survival rate is bewtween age 71~80. "
   ]
  },
  {
   "cell_type": "markdown",
   "metadata": {},
   "source": [
    "##what is the age distribution among three different classes?"
   ]
  },
  {
   "cell_type": "code",
   "execution_count": null,
   "metadata": {
    "collapsed": true
   },
   "outputs": [],
   "source": []
  }
 ],
 "metadata": {
  "kernelspec": {
   "display_name": "Python 3",
   "language": "python",
   "name": "python3"
  },
  "language_info": {
   "codemirror_mode": {
    "name": "ipython",
    "version": 3
   },
   "file_extension": ".py",
   "mimetype": "text/x-python",
   "name": "python",
   "nbconvert_exporter": "python",
   "pygments_lexer": "ipython3",
   "version": "3.6.1"
  }
 },
 "nbformat": 4,
 "nbformat_minor": 2
}
